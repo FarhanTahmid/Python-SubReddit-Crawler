{
 "cells": [
  {
   "cell_type": "code",
   "execution_count": 1,
   "metadata": {},
   "outputs": [
    {
     "data": {
      "text/plain": [
       "True"
      ]
     },
     "execution_count": 1,
     "metadata": {},
     "output_type": "execute_result"
    }
   ],
   "source": [
    "# load credentials\n",
    "import praw\n",
    "import time\n",
    "from requests.exceptions import RequestException\n",
    "import pandas as pd\n",
    "from dotenv import load_dotenv\n",
    "import os\n",
    "load_dotenv()"
   ]
  },
  {
   "cell_type": "code",
   "execution_count": 2,
   "metadata": {},
   "outputs": [],
   "source": [
    "# setup reddit credentials\n",
    "user_agent =os.environ.get('USER_AGENT')\n",
    "reddit = praw.Reddit(\n",
    "    client_id=os.environ.get('CLIENT_ID'),\n",
    "    client_secret=os.environ.get('CLIENT_SECRET'),\n",
    "    user_agent=user_agent\n",
    ")"
   ]
  },
  {
   "cell_type": "code",
   "execution_count": 3,
   "metadata": {},
   "outputs": [],
   "source": [
    "# Function to get posts from a subreddit\n",
    "def get_subreddit_posts(subreddit_name, limit=20000, retries=5):\n",
    "    attempt = 0\n",
    "    posts_df = []\n",
    "    \n",
    "    while attempt < retries:\n",
    "        try:\n",
    "            posts = reddit.subreddit(subreddit_name).top(time_filter=\"all\", limit=limit)\n",
    "            for post in posts:\n",
    "                posts_df.append({\n",
    "                    'post_id': post.id,\n",
    "                    'subreddit': str(post.subreddit),\n",
    "                    'created_utc': post.created_utc,\n",
    "                    'selftext': post.selftext,\n",
    "                    'post_url': post.url,\n",
    "                    'post_title': post.title,\n",
    "                    'link_flair_text': post.link_flair_text,\n",
    "                    'score': post.score,\n",
    "                    'num_comments': post.num_comments,\n",
    "                    'upvote_ratio': post.upvote_ratio,\n",
    "                    'post_author': str(post.author)\n",
    "                })\n",
    "            break\n",
    "        except RequestException as e:\n",
    "            print(f\"Request failed: {e}. Retrying in 5 seconds...\")\n",
    "            time.sleep(5)\n",
    "            attempt += 1\n",
    "\n",
    "    return pd.DataFrame(posts_df)"
   ]
  },
  {
   "cell_type": "code",
   "execution_count": 4,
   "metadata": {},
   "outputs": [],
   "source": [
    "# Function to get comments for a list of posts\n",
    "def get_comments_for_posts(post_ids, retries=5):\n",
    "    comment_list = []\n",
    "\n",
    "    for post_id in post_ids:\n",
    "        attempt = 0\n",
    "        while attempt < retries:\n",
    "            try:\n",
    "                submission = reddit.submission(post_id)\n",
    "                submission.comments.replace_more(limit=None)\n",
    "                for comment in submission.comments.list():\n",
    "                    comment_list.append({\n",
    "                        'post_id': post_id,\n",
    "                        'comment': comment.body,\n",
    "                        'author': str(comment.author)\n",
    "                    })\n",
    "                break\n",
    "            except RequestException as e:\n",
    "                print(f\"Request failed: {e}. Retrying in 5 seconds...\")\n",
    "                time.sleep(5)\n",
    "                attempt += 1\n",
    "\n",
    "    return pd.DataFrame(comment_list)"
   ]
  },
  {
   "cell_type": "code",
   "execution_count": 5,
   "metadata": {},
   "outputs": [],
   "source": [
    "# Get posts and comments from the specified subreddits\n",
    "subreddits = 'Periods+WomensHealth+Healthyhooha+TwoXSupport+WomenHealthTreatments'\n",
    "posts_df = get_subreddit_posts(subreddits)"
   ]
  },
  {
   "cell_type": "code",
   "execution_count": 6,
   "metadata": {},
   "outputs": [
    {
     "data": {
      "text/html": [
       "<div>\n",
       "<style scoped>\n",
       "    .dataframe tbody tr th:only-of-type {\n",
       "        vertical-align: middle;\n",
       "    }\n",
       "\n",
       "    .dataframe tbody tr th {\n",
       "        vertical-align: top;\n",
       "    }\n",
       "\n",
       "    .dataframe thead th {\n",
       "        text-align: right;\n",
       "    }\n",
       "</style>\n",
       "<table border=\"1\" class=\"dataframe\">\n",
       "  <thead>\n",
       "    <tr style=\"text-align: right;\">\n",
       "      <th></th>\n",
       "      <th>post_id</th>\n",
       "      <th>subreddit</th>\n",
       "      <th>created_utc</th>\n",
       "      <th>selftext</th>\n",
       "      <th>post_url</th>\n",
       "      <th>post_title</th>\n",
       "      <th>link_flair_text</th>\n",
       "      <th>score</th>\n",
       "      <th>num_comments</th>\n",
       "      <th>upvote_ratio</th>\n",
       "      <th>post_author</th>\n",
       "    </tr>\n",
       "  </thead>\n",
       "  <tbody>\n",
       "    <tr>\n",
       "      <th>0</th>\n",
       "      <td>kf0d1g</td>\n",
       "      <td>WomensHealth</td>\n",
       "      <td>1.608222e+09</td>\n",
       "      <td>Hey! I spoke with them on the phone, and they ...</td>\n",
       "      <td>https://www.reddit.com/r/WomensHealth/comments...</td>\n",
       "      <td>Please sign petition to get nerves in the clit...</td>\n",
       "      <td>None</td>\n",
       "      <td>2466</td>\n",
       "      <td>183</td>\n",
       "      <td>1.00</td>\n",
       "      <td>jessica_pin</td>\n",
       "    </tr>\n",
       "    <tr>\n",
       "      <th>1</th>\n",
       "      <td>dwup3z</td>\n",
       "      <td>Healthyhooha</td>\n",
       "      <td>1.573842e+09</td>\n",
       "      <td></td>\n",
       "      <td>https://i.redd.it/ua4z8e477wy31.jpg</td>\n",
       "      <td>I know this is apart of the standardized proce...</td>\n",
       "      <td>None</td>\n",
       "      <td>2405</td>\n",
       "      <td>49</td>\n",
       "      <td>0.99</td>\n",
       "      <td>None</td>\n",
       "    </tr>\n",
       "    <tr>\n",
       "      <th>2</th>\n",
       "      <td>hamqgj</td>\n",
       "      <td>Periods</td>\n",
       "      <td>1.592380e+09</td>\n",
       "      <td></td>\n",
       "      <td>https://i.redd.it/h83zzjacdf551.jpg</td>\n",
       "      <td>I'm sure every person here relates.</td>\n",
       "      <td>Fluff</td>\n",
       "      <td>2357</td>\n",
       "      <td>16</td>\n",
       "      <td>1.00</td>\n",
       "      <td>noorhaider97</td>\n",
       "    </tr>\n",
       "    <tr>\n",
       "      <th>3</th>\n",
       "      <td>j8mxtl</td>\n",
       "      <td>Periods</td>\n",
       "      <td>1.602346e+09</td>\n",
       "      <td></td>\n",
       "      <td>https://i.redd.it/2fo1u3ioias51.jpg</td>\n",
       "      <td>🩸</td>\n",
       "      <td>Fluff</td>\n",
       "      <td>2175</td>\n",
       "      <td>16</td>\n",
       "      <td>1.00</td>\n",
       "      <td>None</td>\n",
       "    </tr>\n",
       "    <tr>\n",
       "      <th>4</th>\n",
       "      <td>mqc0v5</td>\n",
       "      <td>Periods</td>\n",
       "      <td>1.618349e+09</td>\n",
       "      <td></td>\n",
       "      <td>https://i.redd.it/83x11rfxd0t61.jpg</td>\n",
       "      <td>why is this so true?</td>\n",
       "      <td>Fluff</td>\n",
       "      <td>2115</td>\n",
       "      <td>72</td>\n",
       "      <td>1.00</td>\n",
       "      <td>KitKat1287</td>\n",
       "    </tr>\n",
       "  </tbody>\n",
       "</table>\n",
       "</div>"
      ],
      "text/plain": [
       "  post_id     subreddit   created_utc  \\\n",
       "0  kf0d1g  WomensHealth  1.608222e+09   \n",
       "1  dwup3z  Healthyhooha  1.573842e+09   \n",
       "2  hamqgj       Periods  1.592380e+09   \n",
       "3  j8mxtl       Periods  1.602346e+09   \n",
       "4  mqc0v5       Periods  1.618349e+09   \n",
       "\n",
       "                                            selftext  \\\n",
       "0  Hey! I spoke with them on the phone, and they ...   \n",
       "1                                                      \n",
       "2                                                      \n",
       "3                                                      \n",
       "4                                                      \n",
       "\n",
       "                                            post_url  \\\n",
       "0  https://www.reddit.com/r/WomensHealth/comments...   \n",
       "1                https://i.redd.it/ua4z8e477wy31.jpg   \n",
       "2                https://i.redd.it/h83zzjacdf551.jpg   \n",
       "3                https://i.redd.it/2fo1u3ioias51.jpg   \n",
       "4                https://i.redd.it/83x11rfxd0t61.jpg   \n",
       "\n",
       "                                          post_title link_flair_text  score  \\\n",
       "0  Please sign petition to get nerves in the clit...            None   2466   \n",
       "1  I know this is apart of the standardized proce...            None   2405   \n",
       "2                I'm sure every person here relates.           Fluff   2357   \n",
       "3                                                  🩸           Fluff   2175   \n",
       "4                               why is this so true?           Fluff   2115   \n",
       "\n",
       "   num_comments  upvote_ratio   post_author  \n",
       "0           183          1.00   jessica_pin  \n",
       "1            49          0.99          None  \n",
       "2            16          1.00  noorhaider97  \n",
       "3            16          1.00          None  \n",
       "4            72          1.00    KitKat1287  "
      ]
     },
     "execution_count": 6,
     "metadata": {},
     "output_type": "execute_result"
    }
   ],
   "source": [
    "posts_df.head()"
   ]
  },
  {
   "cell_type": "code",
   "execution_count": 7,
   "metadata": {},
   "outputs": [],
   "source": [
    "# Save posts DataFrame to CSV\n",
    "posts_df.to_csv('reddit_posts.csv', header=True, index=False)"
   ]
  },
  {
   "cell_type": "code",
   "execution_count": 8,
   "metadata": {},
   "outputs": [],
   "source": [
    "# Get comments DataFrame\n",
    "post_ids = posts_df['post_id']\n",
    "comments_df = get_comments_for_posts(post_ids)\n",
    "\n",
    "comments_df.head()\n"
   ]
  },
  {
   "cell_type": "code",
   "execution_count": null,
   "metadata": {},
   "outputs": [
    {
     "name": "stdout",
     "output_type": "stream",
     "text": [
      "[{'subreddit': 'Healthyhooha', 'posts': [{'title': 'I know this is apart of the standardized procedure and what not but it’s still kind of funny.', 'selftext': '', 'score': 2406, 'url': 'https://i.redd.it/ua4z8e477wy31.jpg', 'comments': [{'body': 'I did some nude modeling for art classes and there was those folding screens for us to undress behind. I think there is something really intimate in undressing that make it hard to do in public than just stay naked.', 'score': 227}, {'body': ' I usually do some charting when  I step out of a room for a patient to undress. It’s only 2 minutes 5 tops but it can be productive in that you only have to add so much information before you move on to the next patient when you’re done.\\n\\nAlso, some people undress SO SLOW', 'score': 189}, {'body': 'As a professional cervix gazer (my new favorite nick name for my job btw), we do this to allow for some privacy. We know a gynecological exam is awkward. It would be way more so if we stood there and watched you undress! I actually try to keep my clients as covered as I can during the whole exam. I think it makes for a calmer experience for everyone involved.', 'score': 125}, {'body': 'I go to European Wax to get bikini waxes and they stay in the room while you take your pants off. I hate it so much, lol.', 'score': 46}, {'body': 'I try to make my gyn visits as easy as possible, so I’d just wear a dress, so I don’t even have to take off my pants. The doc says he’ll leave the room and let me undress. I’m like “nah, I’ll just strip these panties off, and I’m good to go.” So I just have my dress lifted up during the exam, and while the doctor is looking at my junk, he says “here, let’s put this sheet over your lap, for modesty.” You serious, dude?! 😂', 'score': 27}, {'body': \"When I lived in Norway, they just didn't do this. It was a little disconcerting because I was used to the US procedure, but I also prefer the more relaxed approach.\", 'score': 8}, {'body': 'Maybe she doesn’t have time to wait for you to change clothes lol', 'score': 17}, {'body': 'Weird for me that you actually undress in the middle of the room. All gynecologist i have been to in Austria have either small dressing rooms attached to the exam rooms or at least a screen/divider which you can undress behind. Also has the positive addition that you can ask questions or the doctor can ask questions while you undress.  They often also offer tissues and sometimes pads to use after the exam.', 'score': 7}, {'body': 'The last time I went to the spa for a Brazilian the tech didn’t leave the room while I undressed. She was talking as I was standing there waiting for her to exit. After a few minutes, I realized she was prepping and def not leaving. I didn’t mind at all and thought to myself, this saves time and makes sense !', 'score': 6}, {'body': 'As a male Ob-Gyn there is no way I’d stay in the room while a patient undresses. First off a chaperone would need to be present because I wouldn’t want to be accused of anything that could even be misconstrued as inappropriate while they undressed. Even a simple glance can make someone uncomfortable very quickly. So now I’m waiting and my assistant is waiting which is not an efficient way to manage the time. Also as others have said the act of undressing can be more private than already being undressed in the room with a drape over you.', 'score': 3}, {'body': 'I like to fold my clothing neatly on the chair and tuck my bra and undies between my shirt and pants. Now I’m wondering why I even bother to be modest about those things.', 'score': 3}, {'body': \"They do this for intimate waxing too, I have always wondered why but then I feel like I wouldn't like getting undressed in front of someone either\", 'score': 2}, {'body': 'In Europe the provider stays and sits at  their desk working while you go into a booth and change. Now  THAT is efficiency. My doctor in Germany didnt waste time while someone else checks your vitals etc.  They do that themselves as they interrogate you and get your history. They can keep asking you questions while you change, if needed.  This continues until the exam is over and you leave. It helps make sure the provider gets your story ONCE from you, rather than 2 different people.  Appt is over and done with quickly, rather than waiting to be called back, waiting for MA, waiting for doctor, changing and waiting again.  The whole while, time keeps ticking and you keep retelling the problem..', 'score': 2}, {'body': 'Stare at your cervix, my gyno the other day shoved her entire hand up my lady bits. Was not thrilled', 'score': 2}, {'body': 'I worked at a hospital and at Christmas time the hospital administrator/CEOs would serve lunch to the employees/staff in the cafeteria.  One year I was pregnant and happened to have an OB appointment on the day of the Christmas lunch.  I went across the street for my appt and my coworkers and I were going to go to the cafeteria after my appointment.\\n\\nI was less than 2 weeks away from my due date so I had a pelvic exam.  Then as I was walking out of the building my OB was walking the same way and asked if I was heading to the cafeteria for the luncheon.  I think he was basically offering to eat lunch with me.  I told him I had to go back to my department and would be going to the cafeteria later.\\n\\nThe thought of sitting in the cafeteria eating lunch with my OB/GYN after I’d just had a pelvic exam just seemed awkward.  😳', 'score': 2}, {'body': 'This is hilarious! Though I totally feel like, there’s a difference between seeing straight into your vagina for medical purposes, and seeing you standing there naked. People may feel self conscious, judged, or worried about their naked figure in a normal standing position.', 'score': 3}, {'body': 'A sax', 'score': 0}, {'body': 'Lonely 😞,need someone to make me feel good 😊', 'score': 1}, {'body': 'Funny', 'score': 1}, {'body': \"It's to spare them the risk of becoming unduly aroused when we reveal our beautiful, hot bods. But I don't look good  naked anymore.\", 'score': 1}, {'body': \"A couple female engineers wanted to change the lack of comfort by changing the standard procedure and most of the Design of the speculum, along with a meditation app for those who want to relax and time it where the doctor entering won't disturb your calm state. However, I have no clue why yonacare isn't full speed ahead into all of our Dr offices. It probably has to do with medical device funding. I think if most women were polled they would say a change is necessary to all steps of this process. Edited because I found this https://www.reddit.com/r/TwoXChromosomes/comments/7hpo87/were_hailey_sahana_rachel_and_fran_designers_and/?utm_medium=android_app&utm_source=share\", 'score': 1}, {'body': 'This reminds me that I also strategically hide my undies. Like there will be some calamity if my doc sees them ?!😂', 'score': 1}, {'body': 'True, I did that modeling too. Robing and disrobing feels like a protective ritual, as we are totally in control of the exact moment and manner in which we deliver the reveal, which lends dignity to the presentation.', 'score': 22}, {'body': 'That’s actually good to know! I honestly just posted the meme because it’s funny haha. But that’s interesting that some people undress slow. I try to get it over as quick as possible.', 'score': 67}, {'body': '....we are checking everything is presented as nicely as possible for the doctor cause we are extremely embarrassed', 'score': 8}, {'body': 'I love your username', 'score': 1}, {'body': \"I feel you but it would be way easier if you just turned your back til told the person is done. Instead of walking out the door, waiting some random amount of time and then bursting back in again. Idk about you but I don't want to be caught half undressed to the full view of anyone in the hallway or waiting room.\", 'score': 14}, {'body': 'Go and tell that to your French colleagues then ...\\n\\nBecause over here the \"best\" you\\'ll be getting ? \\n\\nIt\\'s them turning around and scribbling on some admin papers while we get naked ...', 'score': 1}, {'body': 'Haha I just posted a comment and that’s where I went for my wax (first time there). I didn’t mind that she stayed in the room. First time that’s ever happened in my waxing experience.', 'score': 13}, {'body': 'Yes! I just started going there and it was so awkward my first visit. I was thinking “Ok you can leave now so I can drop my panties in solitude” and the waxer just had her back turned... I took the hint and stripped but I don’t like it. I’d much rather them leave and come back. Don’t know what I expect from waxing but their whole operation is just strange.', 'score': 5}, {'body': 'Fun fact: That’s called “draping” and it’s a big deal in medical school. You will lose points on practical exams if you fail to drape. It’s just more comfortable for everyone involved. The goal is to keep the patient covered and expose only what’s minimally necessary to do the exam.', 'score': 19}, {'body': \"Haha it's so true! But the sheet can also help anxious patients - it's easier if they're not straining to watch what's going on, and they won't see if the provider makes any weird expressions! It doesn't sound like you're nervous about your appointments though, so prob just force of habit for him\", 'score': 15}, {'body': 'This is actually a thing that is recommended for young girls to do when they go for their first exams exactly for the reason that it feels a bit less embarrassing this way.', 'score': 4}, {'body': 'But she has time to step out of the room? And then come back? It takes less than five minutes', 'score': 5}, {'body': 'This sounds excellent, I hate having to undress in the middle of the room, arrange my clothes on the one empty chair, pull the robe on properly, and rush to sit on the table all while in a panic wondering if I’m going too slow and they’ll open the door when I’m standing there naked 😂', 'score': 2}, {'body': 'This meme actually made its rounds through our office! It’s kinda silly but most people don’t realize there’s an actual reason for it too. Every once and a while  I have a patient tell me to stay in the room and if  i know the patient will be quick (like if they’re wearing a dress and they just need to take their underwear off) then  i stay.\\n\\nIf I’m seeing one of the docs  I work with as a patient and  I didnt anticipate them needing to do a pelvic they usually stay in the room while  I undress.', 'score': 37}, {'body': 'I never burst in unannounced! I always wait 2-3 minutes, knock and ask permission to come back  in before ever opening the door. Just seems like common courtesy to me. I hope this isn’t reflective of a poor experience on your part.', 'score': 24}, {'body': 'I’m pretty used to it now. I see the same girl every time but it’s so awkward trying to take my pants off without falling down 😂😂', 'score': 10}, {'body': 'I always find it so weird that they do this in some countries its not a thing here in Austria and tbh i am rly glad. I think its absolutely the worst to not know what they are doing. I also hate when a doctor does not explain what he/she is doing. It feels so much more intrusive not knowing.', 'score': 7}, {'body': 'Yes ma’am  🤣 just throwing out alternatives all in fun', 'score': 1}, {'body': 'Do you often find yourself receiving unexpected pelvic exams at work?', 'score': 15}, {'body': \"It's a coin flip if people will ask or not. A good proportion of people also either dont wait for an answer and stroll in or cannot hear an answer becuase the door to the room is a firedoor and thus well insulated. \\n\\nIt kinda feels like being 13 again and trying to convince my mom that knocking while you enter is insufficient and that she must knock and then wait.\", 'score': 9}, {'body': \"Oh gotcha. We always make sure to give verbal cues and explain everything before hand if we're using the sheet. And little things like starting on the thigh before moving to the pelvic exam are taught to help make it more comfortable and not a surprise or an unknown for anyone. But I don't know that it's the best way since I haven't done it the other way, it's just standard in the states\", 'score': 4}, {'body': 'Another example was: You’re here to have your breasts examined. I’ll step out of the room so  you can take your shirt off, and put this robe on. Then I’ll come back and open the robe to look at and touch your breasts.\\n\\nSeriously? That’s just pointless.', 'score': 4}, {'body': 'Hahaha I’ve got a very uncommon muscular vaginal condition and we just brought on a bunch of new docs who just finished residency and have never seen a real case before so they’ve asked to do a pelvic on me in exchange for lunch or Starbucks haha', 'score': 22}, {'body': 'My ob always lightly touches my knee, explains what she’s going to do, then says I’ll feel cold and pressure as she does xyz or okay now we’re going to use the speculum to do abc.', 'score': 4}, {'body': 'Okay that’s fantastic! \\n\\nThanks for being so accommodating. For science of course. \\n\\n\\n(I’m a female, really not trying to be a sleeze)', 'score': 13}, {'body': 'Only in the medical field is this normal/not a really bad pickup line.  lol. “I’ll buy you lunch if you let me do a pelvic exam on you.”', 'score': 2}, {'body': 'That made me laugh! You are sweet.', 'score': 4}]}, {'title': 'Idk if memes are allowed here but 🙈', 'selftext': '', 'score': 1953, 'url': 'https://i.redd.it/enjb75g1bs051.jpg', 'comments': [{'body': 'Hahaha...but also *sigh*', 'score': 128}, {'body': 'Haha so true!!', 'score': 40}, {'body': 'Ha!! Funny but sadly true. Thanks for the laughs!', 'score': 26}, {'body': 'Me with BV.', 'score': 12}, {'body': 'Ugh for me it’s UTIs. If I miss one goddamn cranberry pill or forget to drink enough water during the day BAM there’s your UTI miss.', 'score': 27}, {'body': 'Made me chuckle, has my approval!', 'score': 11}, {'body': 'I approve! So true, so sad :(\\nThose yeasty bois get waaaay too attached sometimes :(', 'score': 13}, {'body': '$20 on yeasty boi', 'score': 5}, {'body': 'Dawg… like REOCCURRING', 'score': 6}, {'body': ':((((( going on like $200 on yeasty boy', 'score': 3}, {'body': 'Make BV normal again', 'score': 3}, {'body': 'Never had one don’t want one lol, but I did have a UTI once and I felt like I was dying', 'score': 3}, {'body': 'Ugh yes…after every pap I get a phone call “everything’s fine but you pap was yeasty” yes I know…my entire life…doesn’t take much for it flare up either…just the way I am.', 'score': 2}, {'body': 'Lol', 'score': 1}, {'body': 'Bidet will change your life for good', 'score': 1}, {'body': \"majority of it happens because don't let it air out lol why bidets are important\", 'score': 1}, {'body': 'I hear you,, I’m on like number 7 this year', 'score': 26}, {'body': 'Unfortunately 😔', 'score': 24}, {'body': 'I’m glad people enjoyed it!', 'score': 3}, {'body': 'That’s the fucking worst, I’m so sorry', 'score': 7}, {'body': 'Yeah man. I took ONE bath in six months. ONE. I always shower and I decided to treat myself to a nice relaxing soak.\\n\\nTwo days later, it hurts to walk. One day after that, full blown UTI. -.-', 'score': 3}, {'body': 'Yesss, so glad people liked it', 'score': 3}, {'body': 'I’m loving all this yeast solidarity in the comments, mutual suffering 😔', 'score': 5}, {'body': 'I get them monthly minimum, about to finally see a doctor about it', 'score': 6}, {'body': 'Is it close to your period or during your period? My gyno reccomended 14 days of boric acid and then during my period for the next six months.', 'score': 1}]}, {'title': 'When your gyno is says \"it\\'s a bit wet today\" while inspecting your vagina.', 'selftext': 'So my legs are spread, the speculum is in and my male gyno staring into my vagina goes \"it\\'s a bit wet today\".\\n\\nI felt my face go red out of embarrassment and kind of went into shock before saying \"Oh really?\"\\n\\nHe then goes, \"Yeah the rain has been non-stop\".\\n\\nI then realise he was talking about the fucking weather lmao.', 'score': 1673, 'url': 'https://www.reddit.com/r/Healthyhooha/comments/t5k3mr/when_your_gyno_is_says_its_a_bit_wet_today_while/', 'comments': [{'body': 'That is some weird wording but I know that a lot of doctors (male or female) will talk to you about the random, mundane things to get your mind off of the fact that they just stuck a cold metal object up ya vag. \\n\\nI remember something similar was said to me and the female nurse whipped around and was like “you couldn’t have worded that differently?” At which point I burst out laughing which pushed the damn speculum out and the doctor was like “I’m so so sorry, I just was trying to do some small talk to distract you and I now need to replace the speculum”\\n\\nETA: at that time it was a female doctor subbing for my regular male doctor. My regular male doctor  would tell dad jokes before the exam started to try and ease some of the anxiety and say “I know this is an awful procedure for you, so at any point if you are uncomfortable, I will stop and we’ll figure something else out” so yeah, I had better care from a male doctor than the female gyno I saw after him.', 'score': 238}, {'body': 'This is the reason why I can’t, won’t, for a lifetime let a man as my gyno. 😕😔', 'score': 271}, {'body': 'Sounds intentional tbh.', 'score': 259}, {'body': 'Oh he knew. He is creepy.', 'score': 375}, {'body': 'I\\'d be like, \" bruh. Really?\"', 'score': 78}, {'body': 'He meant exactly what we are all thinking…. Creepy and uncomfortable af', 'score': 180}, {'body': \"I'd have laughed hard enough to break that speculum 😂\", 'score': 78}, {'body': '😂😂😂😂😂😂😂', 'score': 46}, {'body': 'I think this is better than the time my female doctor had her fingers inside me for that part of the exam and then exclaimed “oh! You’re pregnant!” Me: no I’m not. Doctor: “yes you’re pregnant!” Me: “trust me I’m not” this went back and forth until she admitted she was wrong. The whole time with her fingers still inside me. \\n\\nAt the time she did this I was not even sexually active and I was on the pill.', 'score': 8}, {'body': '🤣 i think he was messing with you.', 'score': 8}, {'body': 'Ewwwwwww I would never want a professional to make me feel confused like that even if it was for a “haha funny” \\n\\nLimit your risk to things like this by supporting women gynos', 'score': 58}, {'body': '>\"The rain has been non-stop\" \\n\\nHe could’ve started with that but decided to make you uncomfortable first. It was intentional', 'score': 58}, {'body': '[removed]', 'score': 84}, {'body': 'I remember when I went to my first gyno appointment, I was so nervous that I had gone pale. My (Male) gyno came in and looked at me and the first thing he said to me was “are you alright” I was like “yeah I’m fine” and he was like “are you sure cuz you look like you just saw a ghost” and I said “well I’m not going to lie, I’m a little nervous” which he responds with “oh there nothing to be scared of” as he pulled his little seat directly in front of my spread legs. Before I could even say anything back to him he says “okay we’re going to get started, you’re going to feel some slight pressure on your bottom, but don’t be scared that is just the speculum” which I responded with “oh okay” and then he looks up at me and makes dead eye contact with me and goes “also please for the love of god do not close your legs on me, I am very claustrophobic” which made me laugh and calmed my nerves a bit. I then responded with “well don’t cause me any pain and we shouldn’t have a problem” he then reached his hand up in between my legs and said “deal” he then realized where that hand was just at and then looked at it and then back to me and goes “oh right” which made me laugh even harder. \\n\\nNeedless to say I love my male gyno! He honestly makes everything 10 times less stressful.', 'score': 6}, {'body': '(Facepalm)', 'score': 15}, {'body': \"I've always wondered what makes men want to become gynos and OB's...\", 'score': 28}, {'body': 'Why would you say that during that exact moment, though?  That seems bordering on inappropriate.', 'score': 12}, {'body': 'Report!', 'score': 22}, {'body': 'My last experience at the gyny was pretty funny too, I got a mirena places & had a uterine biopsy. After the mirena was placed and strings cut, he asked my partner “do you want to feel the strings that may poke you?” The nurse, my partner & I all thought he meant the ones in my vagina. When I was like uhhh the nurse cracked up and then he realised she had already thrown them out & did not mean the ones inside me 😂😂😂 was quite funny and we all had a laugh! He apologised but anyway that’s one way to take your mind off things.', 'score': 3}, {'body': 'That’s pretty gross and can’t be a coincidence. This is the reason I see women only lol', 'score': 17}, {'body': \"I don't like male obgyns. At all. And this one thinks he is funny, he's not.\", 'score': 11}, {'body': 'Support women gynos. Abstain from creepy male ones, please. For all of us.', 'score': 12}, {'body': 'Yeah. Nope. My fear grows lol.', 'score': 7}, {'body': 'He was playing with you.. not at all funny, not appropriate. You’re in a submissive, vulnerable position and he’s being disrespectful.', 'score': 2}, {'body': 'This should be a comedic bit lmao!', 'score': 2}, {'body': 'Ew', 'score': 8}, {'body': \"I would have started crying. He is awful. It's already so invasive to show your vag to a stranger. That's why I prefer female gyno idc if they are lesbians women just get it they are considerate and accomodating.\", 'score': 3}, {'body': 'if that made you feel unsafe or weird, you should report it.\\n\\ni have a male gyno and he is great and would never make a comment like that, but that is just the way he is with patients. if this is how yours has been and it isnt new and you enjoy having him as your doctor than all the power to you!', 'score': 4}, {'body': 'Yeah he meant that. He was trying to be a pervy creep.', 'score': 4}, {'body': 'EW EW EW FILE A COMPLAINT', 'score': 6}, {'body': '[removed]', 'score': 4}, {'body': \"Dude no please don't ever go back there. Wtf\", 'score': 2}, {'body': 'What a F*cking Creep! Was there a female nurse in the room? If not, it’s illegal for him to be examining you. The wording during an exam is completely inappropriate and creepy. File a complaint. I only support female gynecologists, because of experiences like this or being mansplained about MY vagina.', 'score': 3}, {'body': 'i’m hoping he’s just oblivious but he almost definitely knew what he was doing. don’t see that gyno again, maybe even request a female doctor if you can. some men just can’t control themselves. :/', 'score': 0}, {'body': 'This took a turn.', 'score': 1}, {'body': 'AHHHH NO', 'score': 1}, {'body': 'If it wasn’t raining that day, you may be able to report him. That was 100% an intentional comment, he only brought up the weather to cover his ass.', 'score': 1}, {'body': '🤣🤣🤣😂😂😂', 'score': 16}, {'body': 'I’ve always found males to be better than women.', 'score': 4}, {'body': 'Nope. I really don’t understand why men would want to or should be allowed to be gynecologists. I really can’t think of a good reason.', 'score': 40}, {'body': 'Exactly. That was so inappropriate to say while doing an exam.', 'score': 4}, {'body': \"I feel like they're probably so desensitized to anything vaginal it's entirely possible to just make that pun accident\", 'score': 34}, {'body': 'Quite possibly.  Although Queensland and NSW are experiencing record flooding with more rainfall on the way, and I was thinking that this sounds like Australian understatement.  OP, are you in Australia?', 'score': 53}, {'body': 'Why did she say that you were pregnant?', 'score': 2}, {'body': 'Just don’t support ones that are assholes', 'score': 2}, {'body': 'Exaaaaactly 🤬', 'score': 14}, {'body': 'What makes anyone want to be any kind of specific doctor? Podiatrists? Optometrist? They just do, nothing wrong with it', 'score': 2}, {'body': 'I don’t think it’s that big of a deal. He could have very well been talking about the weather. Most likely not, but it could’ve been a stupid joke he regretted afterwords. If the OP didn’t have an issue with it, and he’s a doctor, I don’t see it as a problem.', 'score': 2}, {'body': 'There is no good logical reason why humans should be veterinarians.', 'score': -5}, {'body': 'where I live afab gynecologists are quite rare 😭😭', 'score': 1}, {'body': 'Is it weird that adults want to be pediatricians? Should healthy, cancer free doctors be allowed to be oncologists? That’s just silly. Doctors are rarely ever a member of the population they treat. They choose their specialty based on the science and physiology they love studying the most- and the physiology of growing another human being is pretty fucking incredible.  \\n\\nFor the love of god people, PLEASE stop thinking that make OBs spend 12+ years in school because they are creeps who just want to see hooha. OBGYN science is fascinating af, it’s the only specialty that you get trained in surgery AND medicine, you get to bring life into the world and be apart of the best day of peoples lives instead of the worst day (like most doctors). It’s an incredible field. \\n\\nAnd women are always allowed to required a female OB instead of a male if they wish- feel free to do so. Personally, I love my OBGYN who happens to be a male 🤷\\u200d♀️', 'score': 76}, {'body': \"Because men aren't sexualizing the job? It's a job/career for them, it should be available. Men can study women's health, that shouldn't be taken away. \\nYou have every right to request a female doctor.\", 'score': 7}, {'body': 'Why should anyone want to be any kind of specific body part dinosaur? They have as good of a reason as any doctor that wants to be a podiatrist', 'score': 2}, {'body': 'I mean, maybe yeah. Haha. \\nOn the other hand it would be so unprofessional if it was a pun. Like.. in a way that I’d never see that dr again and feel so uncomfortable. That’s just me, personally. \\n\\nHopefully he didn’t mean it how it sounds. Yikes.', 'score': 8}, {'body': \"Yes I am in Australia. And we are experiencing crazy floods so completely normal topic. The way he said it was not creepy at all and I didn't feel uncomfortable like many are thinking. I think gynos are just desensitised to vaginas and don't realise what they're saying.\", 'score': 66}, {'body': 'Based on the past post history they are from Aus! So maybe he was so used to having that conversation in passing that he just, at the wrong time albeit, said it as a conversation starter.', 'score': 22}, {'body': 'Ah, okay. Well hopefully that is the case.', 'score': 8}, {'body': 'Doll head.', 'score': 1}, {'body': 'Never said anything was wrong with it, I was just curious.', 'score': 3}, {'body': 'afab?', 'score': 2}, {'body': 'I’ve had much better care from male obgyns in my long experience of being an obgyn patient. Of course they’re NOT all good, the on-call Dr. who delivered my first kid was a complete asshole. As I was trying to push my son out he commented ‘aren’t you a bit young to be having a baby?’ I was 20, yes obviously I was too young but that’s none of his damn business. I ended up getting induced with my second kid just so I could have my own amazing male obgyn deliver her, and not risk getting the on-call asshole. Third kid I delivered naturally in a birthing center with midwives 😂.         \\n\\nNow that I’m in the perimenopause zone I lucked out on this incredible male Muslim obgyn after having a very shitty traumatic experience with a white female obgyn who wanted to take my uterus out just because I had heavy periods. And she fought with me that I was not in perimenopause (lady, for fucks sake I’m 49! Of course I’m at least in early perimenopause!) my new guy lets me adjust my HRT without question whenever I’m experiencing symptoms, and was fine with using a combination of birth control pills as HRT (it’s free instead of paying $$$ for HRT which is basically the same hormones) now I’m feeling great, I still have all my organs, no more anemia, all thanks to him!!', 'score': 11}, {'body': \"I agree, it gets to be just another day at the office for a lot of gynos. Glad he wasn't creepy and you were able to see the humor in it.\", 'score': 20}, {'body': 'Assigned female and', 'score': 1}, {'body': 'oh- that sucks', 'score': 1}, {'body': '*assigned female at birth', 'score': 2}]}, {'title': 'Looking to see if anyone has tried the Uro vaginal probiotics', 'selftext': 'I’ve recently stumbled across these probiotic supplements that say they’re for supporting vaginal PH, vaginal odor, yeast balance and vaginal flora. I’m wondering if anyone’s tried them and if they work well. Or if anyone has recommendations for some similar products. I’ll post the link to the website in the comments so if anyone could tell me if the ingredients are bad I’d really appreciate it.', 'score': 1602, 'url': 'https://www.reddit.com/r/Healthyhooha/comments/18zew66/looking_to_see_if_anyone_has_tried_the_uro/', 'comments': [{'body': 'I have looked into Uro and tried Hum and Soaking Wet. I personally prefer Soaking Wet from VB health. My gyno mentioned that crispatus and gasseri are the best lacto strains to take which are missing by from Hum. I also like that SW has prebiotics', 'score': 26}, {'body': 'Tried Uro and Jarrow before settling down for HappyV. Like u/zoomers1234 mentioned here, the challenge is finding the probiotic that has the best lacto strains and what works for your specific case. I had recurrent BV for years before I went on this antibiotic + probiotic regimen as prescribed by my current OBGYN.', 'score': 7}, {'body': \"Here's what I've seen about it. Definitely an interesting brand https://www.tiktok.com/t/ZTLmqGsWk/\", 'score': 1}, {'body': '[https://opositiv.com/collections/vaginal-health](https://opositiv.com/collections/vaginal-health)', 'score': 1}, {'body': 'Does Soaking Wet provide the same things Uro claims to help? I feel like my ph is off and I have no clue how to fix it, so I thought probiotics would help with that. Would you mind linking the Soaking Wet product for me?', 'score': 5}, {'body': 'Thank you!', 'score': 4}, {'body': 'Yes it’s a similar product. The main differences are the strains of lactobacillus that each has, and SW has prebiotics + vitamins D3, E, and Zinc', 'score': 2}, {'body': 'Oh okay thank you I’ll look into that one. Would they affect birthcontrol in anyway?', 'score': 4}, {'body': 'I actually had the same question when I asked my gyno about it! She said it should not interfere', 'score': 4}, {'body': 'Okay perfect I was concerned about that. I don’t currently have access to a gyno atm so I was a bit worried.', 'score': 2}]}, {'title': 'am i right or am i right?', 'selftext': '', 'score': 1595, 'url': 'https://i.redd.it/9s2xqasi9kv31.png', 'comments': [{'body': 'That sums up my 20s.', 'score': 133}, {'body': '>get a UTI\\n\\n>take antibiotics\\n\\n>get a yeast infection\\n\\n>take medication\\n\\n>UTI comes back\\n\\n>take more antibiotics\\n\\n>yeast infection comes back', 'score': 71}, {'body': 'My male BFF was sitting next to me as I broke out laughing.  I showed it to him.  He had no idea what the fuck. I explained it to him.  He said ‘thank god I just have a penis’', 'score': 75}, {'body': \"I didn't read which subreddit I was in. I was really wondering where this was going. I busted out laughing!\", 'score': 30}, {'body': 'I’ll never forget my 2k in lab testing bills for what wound up being an allergy to a new laundry detergent 😂', 'score': 22}, {'body': 'This is why my bf says lady parts are too \"high maintenance.\" He\\'s not wrong! 😂😂😂', 'score': 12}, {'body': 'I\\'m currently sitting in my pharmacology class in nursing school right now and we\\'re talking about laxatives, and because of this meme I look like the person who laughs at the word \"anus.\"\\n\\nWhen in actuality, I\\'m the person laughing at a yeast infection meme.', 'score': 11}, {'body': 'This makes me so happy', 'score': 15}, {'body': 'This is soo my 20s as well! What’s the best laundry detergent? What ingredients does one stray from on?', 'score': 5}, {'body': '#Grrrrr!', 'score': 4}, {'body': 'Ok so I’m a little confused- is it *really* that easy to get a UTI or yeast infection? I’m 30 yrs old, I’ve only ever had two yeast infections, and *almost* had a UTI but I chugged enough water and cranberry juice during the weekend that it was gone by the time my university health clinic opened on Monday.\\nI’m just so confused by *so many* posts about yeast infections being like an at least yearly thing', 'score': 3}, {'body': 'This deserves more upvotes', 'score': 8}, {'body': 'Fabric softener can be a huge irritant and should be avoided, especially with underwear.', 'score': 7}, {'body': 'I never knew that fabric softener could irrate your ph and vag like that', 'score': 2}, {'body': 'Currently', 'score': 1}, {'body': \"Let's not forget sex without proper foreplay and, personally, excessive drinking of bread&sugar. A party of fucking up my flora good lord\", 'score': 106}, {'body': 'Are things better?', 'score': 6}, {'body': 'Reply to him that urethral yeast infections can happen to penis owners as well and they hurt like a bitch too and YES even a change of fabric softener can cause one as well ...', 'score': 3}, {'body': 'sounds like a man without foreskin.', 'score': 12}, {'body': 'Eco-friendly ones hurt me less. Ditto biodegradable dryer sheets.', 'score': 1}, {'body': \"Well tbh it depends on the person, but yes, UTIs  and yeast infections are really common among women. The more UTIs you've had, the more likely it is that you'll get it again. And UTI antibiotics tend to have the side effect of giving you yeast infections, so it's sort of a vicious cycle lol. Not to mention the bunch of factors that can cause them; vaginas can get pretty sensitive over that kind of stuff.\", 'score': 8}, {'body': '[deleted]', 'score': 2}, {'body': 'Yes. I get them on a monthly basis. It’s hell.\\n\\nEdit to add: it is due to hormonal changes associated with my period and ovulation, not outside irritants.', 'score': 1}, {'body': 'I read a few years back that it can be carcinogenic (same with dryer sheets) and I don’t fuck around with carcinogens, so I stopped using both and noticed zero change in my clothes, weirdly! Take my anecdotal evidence with a grain of salt, but I no longer find them necessary.', 'score': 1}, {'body': 'Fabric softener is basically the devil!', 'score': 2}, {'body': 'Using a condom, not using a condom, lube, bath bombs, shaving your hooha. It’s an endless list!', 'score': 53}, {'body': 'Without proper foreplay??', 'score': 5}, {'body': 'Fuck yes. I made it to 40 in one piece.', 'score': 8}, {'body': 'I guess my vagina is just extra hostile to yeast or something. Thanks for the further info!', 'score': 4}, {'body': 'Holy moly that’s annoying! I’m glad I haven’t had that issue, but I usually pee right after sex, so maybe I would if I didn’t?', 'score': 1}, {'body': 'Good lord I’m so sorry. That sounds awful. I would count myself lucky, but I have endometriosis, so my reproductive system makes my life hell in a different way', 'score': 1}, {'body': \"Yes, I've read the same! Better to avoid carcinogens, we have enough of them in food and even bottled water (micro plastic everywhere) . I don't use fabric softeners at all.\", 'score': 2}, {'body': \"Shaving is such a scam😒 I never got into bath bombs but that one sexual partner was so damn spunky&girthy it was just destructive... And yet we pop some acidophilus and hope it'll be better next time🙃\", 'score': 25}, {'body': 'Ugghh, grubby ass teenage fingers!', 'score': 11}, {'body': 'Okay so I’m not imagining that I get a yeast infection every time I shave...', 'score': 5}, {'body': 'yeah check if the lube has glycerin in it.', 'score': 1}, {'body': 'Not warming up and without sufficient naturally occurring or store bought lube cand cause microtears leading to infection. And thou shalt not lay a dry finger on a clitoris ever! Jesus, lick it first.', 'score': 37}, {'body': \"You're so lucky!! And no problem 😊\", 'score': 3}, {'body': '> Shaving is such a scam😒\\n\\nYES! Let it grow this summer.. and it looks hot af!', 'score': 4}, {'body': 'Yeah, that’s what did it! Luckily I now know what lube works for me haha', 'score': 2}, {'body': 'Lollllll not really, I’ve got endometriosis 🙃', 'score': 3}, {'body': 'What lube did you find that works for you? I’m currently trying to fine one myself...', 'score': 1}, {'body': \"Ahhh yikes. Somehow I knew deep inside that that comment would back fire on me lol. I'm sorry about that :/\", 'score': 3}, {'body': 'Lol no worries. I was laid up in bed until just now ISG today because my Endo heard it’s name called and had to make its presence known 😂😭🙃', 'score': 5}, {'body': 'That really sucks 😫 I hope you get better dude, our Lady bits can be our worst enemies', 'score': 2}]}]}]\n"
     ]
    }
   ],
   "source": [
    "# Save comments DataFrame to CSV\n",
    "comments_df.to_csv('reddit_post_comments.csv', header=True, index=False)"
   ]
  }
 ],
 "metadata": {
  "kernelspec": {
   "display_name": ".venv",
   "language": "python",
   "name": "python3"
  },
  "language_info": {
   "codemirror_mode": {
    "name": "ipython",
    "version": 3
   },
   "file_extension": ".py",
   "mimetype": "text/x-python",
   "name": "python",
   "nbconvert_exporter": "python",
   "pygments_lexer": "ipython3",
   "version": "3.11.1"
  }
 },
 "nbformat": 4,
 "nbformat_minor": 2
}
